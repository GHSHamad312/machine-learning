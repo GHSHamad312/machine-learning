{
 "cells": [
  {
   "cell_type": "code",
   "execution_count": 32,
   "id": "399a477d",
   "metadata": {},
   "outputs": [],
   "source": [
    "import numpy as np\n",
    "import matplotlib.pyplot as plt"
   ]
  },
  {
   "cell_type": "markdown",
   "id": "cade3682",
   "metadata": {},
   "source": [
    "giving some data"
   ]
  },
  {
   "cell_type": "code",
   "execution_count": null,
   "id": "e9f2fde9",
   "metadata": {},
   "outputs": [],
   "source": [
    "x_train=np.array([1, 2,3,4, 5,6,6,7,9])\n",
    "y_train=np.array([123,324,563,766,876,989,1024,1553,1897])"
   ]
  },
  {
   "cell_type": "markdown",
   "id": "16c61897",
   "metadata": {},
   "source": [
    "writing the cost function for calculating the cost"
   ]
  },
  {
   "cell_type": "code",
   "execution_count": 34,
   "id": "9ecc17b5",
   "metadata": {},
   "outputs": [],
   "source": [
    "def calculate_cost(x,  y, w, b):\n",
    "    m=x.shape[0]\n",
    "    cost=0\n",
    "    for i in range(m):\n",
    "        f_wb= w*x[i]+b\n",
    "        cost+=(f_wb - y[i])**2\n",
    "    cost = (1 / (2 * m)) * cost\n",
    "    return cost\n",
    "        "
   ]
  },
  {
   "cell_type": "markdown",
   "id": "7ebe5e27",
   "metadata": {},
   "source": [
    "writing the compute gradient function to computer the derivative of w and b partially"
   ]
  },
  {
   "cell_type": "code",
   "execution_count": 35,
   "id": "a4c38b45",
   "metadata": {},
   "outputs": [],
   "source": [
    "def compute_gradient(x, y,w,b):\n",
    "    d_dw=0\n",
    "    d_db=0\n",
    "    m=x.shape[0]\n",
    "    for i in range(m):\n",
    "        f_wb= w*x[i]+b\n",
    "        d_dw_temp=(f_wb - y[i]) * x[i]\n",
    "        d_db_temp=(f_wb - y[i])\n",
    "        d_dw+=d_dw_temp\n",
    "        d_db+=d_db_temp\n",
    "    d_dw=d_dw/m\n",
    "    d_db=d_db/m\n",
    "    return d_dw, d_db\n",
    "    "
   ]
  },
  {
   "cell_type": "markdown",
   "id": "482c35f7",
   "metadata": {},
   "source": [
    "now as we have the derivative we can implement the gradient descent `G.D=w-alpha d_dw`  and `G.D=b-alpha d+dj`"
   ]
  },
  {
   "cell_type": "code",
   "execution_count": 36,
   "id": "da969253",
   "metadata": {},
   "outputs": [],
   "source": [
    "def descent(x, y, w_initial, b_initial, alpha , iterations):\n",
    "    w=w_initial\n",
    "    b=b_initial\n",
    "    m=x.shape\n",
    "    for i in range(iterations):\n",
    "        d_dw, d_db=compute_gradient(x, y, w, b)\n",
    "        w=w-alpha*d_dw\n",
    "        b=b-alpha*d_db\n",
    "    print(f\"the new w={w}\")\n",
    "    print(f\"the new b={b}\")\n",
    "    print(f\"the cost here is{calculate_cost(x, y, w, b)}\")"
   ]
  },
  {
   "cell_type": "code",
   "execution_count": 42,
   "id": "7521d8a2",
   "metadata": {},
   "outputs": [
    {
     "name": "stdout",
     "output_type": "stream",
     "text": [
      "the new w=-0.8799277852767154\n",
      "the new b=2.7533531010703833e-16\n",
      "the cost here is0.11286354634900696\n"
     ]
    }
   ],
   "source": [
    "descent(x_train, y_train, 0, 0, 0.1, 1000000)"
   ]
  },
  {
   "cell_type": "markdown",
   "id": "bf9636ff",
   "metadata": {},
   "source": [
    "plotting the data and also checking if the new values of w and b are correct"
   ]
  },
  {
   "cell_type": "code",
   "execution_count": null,
   "id": "05e98094",
   "metadata": {},
   "outputs": [
    {
     "data": {
      "text/plain": [
       "[<matplotlib.lines.Line2D at 0x1f34cbc4b90>]"
      ]
     },
     "execution_count": 44,
     "metadata": {},
     "output_type": "execute_result"
    },
    {
     "data": {
      "image/png": "[encoded data removed]",
      "text/plain": [
       "<Figure size 640x480 with 1 Axes>"
      ]
     },
     "metadata": {},
     "output_type": "display_data"
    }
   ],
   "source": [
    "plt.scatter(x_train,y_train, marker=\"x\", c=\"r\")\n",
    "m=x_train.shape[0]\n",
    "y_hat=np.zeros(m)\n",
    "for i in range(m):\n",
    "    y_hat[i]=216.3556034482745*x_train[i] -132.03232758619907\n",
    "plt.plot(x_train, y_hat)"
   ]
  }
 ],
 "metadata": {
  "kernelspec": {
   "display_name": "Python 3",
   "language": "python",
   "name": "python3"
  },
  "language_info": {
   "codemirror_mode": {
    "name": "ipython",
    "version": 3
   },
   "file_extension": ".py",
   "mimetype": "text/x-python",
   "name": "python",
   "nbconvert_exporter": "python",
   "pygments_lexer": "ipython3",
   "version": "3.11.9"
  }
 },
 "nbformat": 4,
 "nbformat_minor": 5
}
