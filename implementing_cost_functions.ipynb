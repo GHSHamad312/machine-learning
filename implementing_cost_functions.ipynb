{
 "cells": [
  {
   "cell_type": "markdown",
   "id": "00000d52",
   "metadata": {},
   "source": [
    "the fucntion for cost function is `j(w,b)=1/2m summition(f_wb(x)-y)^2`\n"
   ]
  },
  {
   "cell_type": "code",
   "execution_count": 2,
   "id": "f6a03494",
   "metadata": {},
   "outputs": [],
   "source": [
    "import numpy as np\n",
    "import matplotlib.pyplot as plt"
   ]
  },
  {
   "cell_type": "markdown",
   "id": "8664ff6f",
   "metadata": {},
   "source": [
    "giving inputs and outputs"
   ]
  },
  {
   "cell_type": "code",
   "execution_count": 33,
   "id": "31bd831c",
   "metadata": {},
   "outputs": [],
   "source": [
    "x_train=np.array([2,3,4 ,5, 6,9, 10])\n",
    "y_train=np.array([100, 300, 500, 2143, 2559, 8657, 9999])"
   ]
  },
  {
   "cell_type": "markdown",
   "id": "f84e4670",
   "metadata": {},
   "source": [
    "now making a function to calculate cost"
   ]
  },
  {
   "cell_type": "code",
   "execution_count": 34,
   "id": "4bfd7553",
   "metadata": {},
   "outputs": [],
   "source": [
    "def cost_calc(x, y, w, b):\n",
    "    sum=0\n",
    "    m=x.shape[0]\n",
    "    for i in range(0, m):\n",
    "        f_wb= (w*x[i])+b\n",
    "        cost=(f_wb-y[i])**2\n",
    "        sum+=cost\n",
    "    sum=(1/2*m)*sum\n",
    "    return sum"
   ]
  },
  {
   "cell_type": "markdown",
   "id": "fe046d17",
   "metadata": {},
   "source": [
    "checking for the min cost"
   ]
  },
  {
   "cell_type": "code",
   "execution_count": 47,
   "id": "ed13496a",
   "metadata": {},
   "outputs": [
    {
     "name": "stdout",
     "output_type": "stream",
     "text": [
      "Minimum Cost: 21186270.0\n",
      "Best w: 1340\n",
      "Best b: -4000\n"
     ]
    }
   ],
   "source": [
    "min_cost = float('inf')\n",
    "best_w = None\n",
    "best_b = None\n",
    "\n",
    "for i in range(0, 5000, 10):\n",
    "    w = i\n",
    "    for j in range(-5000, 5000, 1):\n",
    "        b = j\n",
    "        val = cost_calc(x_train, y_train, w, b)\n",
    "        if val < min_cost:\n",
    "            min_cost = val\n",
    "            best_w = w\n",
    "            best_b = b\n",
    "\n",
    "print(f\"Minimum Cost: {min_cost}\")\n",
    "print(f\"Best w: {best_w}\")\n",
    "print(f\"Best b: {best_b}\")\n"
   ]
  },
  {
   "cell_type": "markdown",
   "id": "c5472569",
   "metadata": {},
   "source": [
    "testing the min cost"
   ]
  },
  {
   "cell_type": "code",
   "execution_count": 49,
   "id": "8010d903",
   "metadata": {},
   "outputs": [
    {
     "data": {
      "text/plain": [
       "[<matplotlib.lines.Line2D at 0x24a505ec710>]"
      ]
     },
     "execution_count": 49,
     "metadata": {},
     "output_type": "execute_result"
    },
    {
     "data": {
      "image/png": "[encoded data removed]",
      "text/plain": [
       "<Figure size 640x480 with 1 Axes>"
      ]
     },
     "metadata": {},
     "output_type": "display_data"
    }
   ],
   "source": [
    "plt.scatter(x_train, y_train, marker='x', color='r')\n",
    "y_hat=np.zeros(x_train.shape[0])\n",
    "for i in range(x_train.shape[0]):\n",
    "    y_hat[i]=1340*x_train[i] + (-4000)\n",
    "\n",
    "plt.plot(x_train,y_hat)"
   ]
  },
  {
   "cell_type": "code",
   "execution_count": null,
   "id": "e9beaab2",
   "metadata": {},
   "outputs": [],
   "source": []
  }
 ],
 "metadata": {
  "kernelspec": {
   "display_name": "Python 3",
   "language": "python",
   "name": "python3"
  },
  "language_info": {
   "codemirror_mode": {
    "name": "ipython",
    "version": 3
   },
   "file_extension": ".py",
   "mimetype": "text/x-python",
   "name": "python",
   "nbconvert_exporter": "python",
   "pygments_lexer": "ipython3",
   "version": "3.11.9"
  }
 },
 "nbformat": 4,
 "nbformat_minor": 5
}
